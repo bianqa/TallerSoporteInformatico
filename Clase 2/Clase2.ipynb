{
  "nbformat": 4,
  "nbformat_minor": 0,
  "metadata": {
    "colab": {
      "provenance": []
    },
    "kernelspec": {
      "name": "python3",
      "display_name": "Python 3"
    },
    "language_info": {
      "name": "python"
    }
  },
  "cells": [
    {
      "cell_type": "markdown",
      "source": [
        "csv de datos de los clientes de un negocio de comida rápida.\n",
        "\n",
        "Age: Edad\n",
        "\n",
        "Gender: Género\n",
        "\n",
        "Marital Status: Estado civil\n",
        "\n",
        "Occupation: Ocupación\n",
        "\n",
        "Educational Qualifications: Preparación académica\n",
        "\n",
        "Family size: Tamaño de la familia"
      ],
      "metadata": {
        "id": "MSjRC-57MXxC"
      }
    },
    {
      "cell_type": "code",
      "execution_count": 6,
      "metadata": {
        "id": "ql6hruPB7d0Z"
      },
      "outputs": [],
      "source": [
        "import pandas as pd\n",
        "import numpy as np\n",
        "\n",
        "csv = pd.read_csv(\"archivo_salida.csv\")\n",
        "\n",
        "def limpiarColumnaGenero(valor):\n",
        "  valor = str(valor)\n",
        "  valor = valor.replace(\"1\", \"M\")\n",
        "  valor = valor.replace(\"2\", \"F\")\n",
        "  return valor\n",
        "\n",
        "\n",
        "def limpiarColumnaEstadoCivil(valor):\n",
        "  valor = str(valor)\n",
        "  valor = valor.replace(\"1\", \"M\")\n",
        "  valor = valor.replace(\"2\", \"S\")\n",
        "  if valor ==  \"3\":\n",
        "    valor = np.nan\n",
        "  return  valor\n",
        "\n",
        "\n",
        "def limpiarColumnaEstadoPago(valor):\n",
        "  valor = str(valor)\n",
        "  if valor == \"-2\":\n",
        "    valor = np.nan\n",
        "  else:\n",
        "    valor = valor.replace(\"0\", \"No pagó en su totalidad\")\n",
        "    valor = valor.replace(\"-1\", \"Pagado\")\n",
        "    valor = valor.replace(\"1\", \"1 mes atraso\")\n",
        "    valor = valor.replace(\"2\", \"2 meses atraso\")\n",
        "    valor = valor.replace(\"3\", \"3 meses atraso\")\n",
        "    valor = valor.replace(\"4\", \"4 meses atraso\")\n",
        "    valor = valor.replace(\"5\", \"5 meses atraso\")\n",
        "    valor = valor.replace(\"6\", \"6 meses atraso\")\n",
        "    valor = valor.replace(\"7\", \"7 meses atraso\")\n",
        "    valor = valor.replace(\"8\", \"8 meses atraso\")\n",
        "    valor = valor.replace(\"9\", \"9+ meses atraso\")\n",
        "\n",
        "  return  valor\n",
        "\n",
        "\n",
        "csv['SEX'] = csv['SEX'].apply(limpiarColumnaGenero)\n",
        "csv['MARRIAGE'] = csv['MARRIAGE'].apply(limpiarColumnaEstadoCivil)\n",
        "csv['PAY_0'] = csv['PAY_0'].apply(limpiarColumnaEstadoPago)\n",
        "csv['PAY_2'] = csv['PAY_2'].apply(limpiarColumnaEstadoPago)\n",
        "csv['PAY_3'] = csv['PAY_3'].apply(limpiarColumnaEstadoPago)\n",
        "csv['PAY_4'] = csv['PAY_4'].apply(limpiarColumnaEstadoPago)\n",
        "csv['PAY_5'] = csv['PAY_5'].apply(limpiarColumnaEstadoPago)\n",
        "csv['PAY_6'] = csv['PAY_6'].apply(limpiarColumnaEstadoPago)\n",
        "csv = csv.dropna()"
      ]
    }
  ]
}