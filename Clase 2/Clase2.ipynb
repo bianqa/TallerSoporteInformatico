{
  "nbformat": 4,
  "nbformat_minor": 0,
  "metadata": {
    "colab": {
      "provenance": []
    },
    "kernelspec": {
      "name": "python3",
      "display_name": "Python 3"
    },
    "language_info": {
      "name": "python"
    }
  },
  "cells": [
    {
      "cell_type": "markdown",
      "source": [
        "csv de datos de los clientes de un negocio de comida rápida.\n",
        "\n",
        "Age: Edad\n",
        "\n",
        "Gender: Género\n",
        "\n",
        "Marital Status: Estado civil\n",
        "\n",
        "Occupation: Ocupación\n",
        "\n",
        "Educational Qualifications: Preparación académica\n",
        "\n",
        "Family size: Tamaño de la familia"
      ],
      "metadata": {
        "id": "MSjRC-57MXxC"
      }
    },
    {
      "cell_type": "code",
      "execution_count": null,
      "metadata": {
        "id": "ql6hruPB7d0Z"
      },
      "outputs": [],
      "source": [
        "import pandas as pd\n",
        "import numpy as np\n",
        "\n",
        "csv = pd.read_csv(\"onlinefoods2.csv\")\n",
        "\n",
        "def limpiarColumnaGenero(valor):\n",
        "  valor = str(valor)\n",
        "  valor = valor.replace(\"Male\", \"M\")\n",
        "  valor = valor.replace(\"Female\", \"F\")\n",
        "  return valor\n",
        "\n",
        "\n",
        "def limpiarColumnaStatus(valor):\n",
        "  valor = str(valor)\n",
        "  valor = valor.replace(\"Single\", \"S\")\n",
        "  valor = valor.replace(\"Married\", \"M\")\n",
        "  if valor == \"Prefer not to say\":\n",
        "    valor = np.nan\n",
        "  return  valor\n",
        "\n",
        "\n",
        "def limpiarColumnaEdcucacional(valor):\n",
        "  valor = str(valor)\n",
        "  if valor == \"Ph.D\":\n",
        "    valor = np.nan\n",
        "  return  valor\n",
        "\n",
        "\n",
        "csv['Gender'] = csv['Gender'].apply(limpiarColumnaGenero)\n",
        "csv['Marital Status'] = csv['Marital Status'].apply(limpiarColumnaStatus)\n",
        "csv['Educational Qualifications'] = csv['Educational Qualifications'].apply(limpiarColumnaEdcucacional)\n",
        "csv = csv.dropna()\n",
        "csv.to_csv('onlinefoods2.csv')\n"
      ]
    }
  ]
}