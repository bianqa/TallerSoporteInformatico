{
  "nbformat": 4,
  "nbformat_minor": 0,
  "metadata": {
    "colab": {
      "provenance": []
    },
    "kernelspec": {
      "name": "python3",
      "display_name": "Python 3"
    },
    "language_info": {
      "name": "python"
    }
  },
  "cells": [
    {
      "cell_type": "code",
      "execution_count": null,
      "metadata": {
        "id": "hFTzPi8PKMeb"
      },
      "outputs": [],
      "source": [
        "import requests\n",
        "import pandas as pd\n",
        "from google.cloud import bigquery\n",
        "from datetime import datetime\n",
        "\n",
        "csv = pd.read_csv('cities.csv')\n",
        "\n",
        "def reemplazarEspacio(valor):\n",
        "   valor = str(valor)\n",
        "   valor = valor.replace(' ', '-')\n",
        "   return valor\n",
        "\n",
        "csv['City'] = csv['City'].apply(reemplazarEspacio)\n",
        "csv = csv[:100]\n",
        "cities = csv['City'].unique()\n",
        "\n",
        "weather_list = []\n",
        "for city in cities:\n",
        "  try:\n",
        "    url = f\"http://wttr.in/{city}?format=j1\"\n",
        "    response = requests.get(url)\n",
        "    data = response.json()\n",
        "\n",
        "    weather_data = {\n",
        "      'city': city,\n",
        "      'date': datetime.now().strftime('%Y-%m-%d'),\n",
        "      'temperature_C': data['current_condition'][0]['temp_C'],\n",
        "      'weather_desc': data['current_condition'][0]['weatherDesc'][0]['value'],\n",
        "      'windspeed_kmph': data['current_condition'][0]['windspeedKmph'],\n",
        "      'humidity': data['current_condition'][0]['humidity'],\n",
        "      'pressure': data['current_condition'][0]['pressure']\n",
        "      }\n",
        "\n",
        "    weather_list.append(weather_data)\n",
        "  except Exception as e:\n",
        "    print(e)\n",
        "\n",
        "df = pd.DataFrame(weather_list)\n",
        "df.to_csv('weather_data.csv', index=False)\n",
        "print(df)\n",
        "\n",
        "\n",
        "\n"
      ]
    }
  ]
}